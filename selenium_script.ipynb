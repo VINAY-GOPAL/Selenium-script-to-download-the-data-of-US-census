{
  "nbformat": 4,
  "nbformat_minor": 0,
  "metadata": {
    "colab": {
      "provenance": [],
      "collapsed_sections": [],
      "authorship_tag": "ABX9TyN3TpBEbwKYQauRb2tDIeXl",
      "include_colab_link": true
    },
    "kernelspec": {
      "name": "python3",
      "display_name": "Python 3"
    },
    "language_info": {
      "name": "python"
    }
  },
  "cells": [
    {
      "cell_type": "markdown",
      "metadata": {
        "id": "view-in-github",
        "colab_type": "text"
      },
      "source": [
        "<a href=\"https://colab.research.google.com/github/VINAY-GOPAL/Selenium-script-to-download-the-data-of-US-census/blob/main/selenium_script.ipynb\" target=\"_parent\"><img src=\"https://colab.research.google.com/assets/colab-badge.svg\" alt=\"Open In Colab\"/></a>"
      ]
    },
    {
      "cell_type": "markdown",
      "source": [
        "## Seleinum script to download the data of employment status table. "
      ],
      "metadata": {
        "id": "M5xrw8UJM2hL"
      }
    },
    {
      "cell_type": "code",
      "execution_count": null,
      "metadata": {
        "id": "nlqtmzIMMyrq"
      },
      "outputs": [],
      "source": [
        "from selenium import webdriver\n",
        "from selenium.webdriver.common.by import By\n",
        "from time import sleep\n",
        "import re\n",
        "from selenium import webdriver\n",
        "from selenium.webdriver.common.keys import Keys\n"
      ]
    },
    {
      "cell_type": "code",
      "source": [
        "url = 'https://data.census.gov/cedsci/table'\n",
        "path='C://Users//vdulam//Downloads//chromedriver_win32//chromedriver.exe'"
      ],
      "metadata": {
        "id": "ps9qSMcaM6tf"
      },
      "execution_count": null,
      "outputs": []
    },
    {
      "cell_type": "code",
      "source": [
        "def employment_status_table(state,city,year):\n",
        "    driver = webdriver.Chrome(executable_path=path)\n",
        "    driver.get(url)\n",
        "    #Clicking on topic filter and selecting employment \n",
        "    search = driver.find_elements(By.XPATH,'//li[@role=\"menuitem\"]')\n",
        "    search[3].click()\n",
        "    sleep(3)\n",
        "\n",
        "    search1 = driver.find_elements(By.XPATH,'//li[@role=\"menuitem\"]')\n",
        "    #print(len(search1))\n",
        "    search1[7].click()\n",
        "\n",
        "    checks=driver.find_elements(By.XPATH,'//div[@class=\"check\"]')\n",
        "    checks[2].click()\n",
        "\n",
        "    search[1].click()\n",
        "\n",
        "    sleep(3)\n",
        "\n",
        "    #Clicking on geography filter and searching for the place we want and clicking on that\n",
        "    place = driver.find_elements(By.XPATH,'//div[@class=\"aqua-flex chevron\"]')\n",
        "    #print(len(state))\n",
        "    place[3].click()\n",
        "\n",
        "    sleep(3)\n",
        "\n",
        "    state_search = driver.find_elements(By.XPATH,'//input[@type=\"text\"]')\n",
        "    #print(len(state_search))\n",
        "    state_search[2].click()\n",
        "    state_search[2].send_keys(state)\n",
        "\n",
        "    sleep(3)\n",
        "\n",
        "    select_state = driver.find_elements(By.XPATH,'//li[@role=\"menuitem\"]')\n",
        "    #print(len(select_state))\n",
        "    select_state[5].click()\n",
        "\n",
        "    sleep(5)\n",
        "\n",
        "    #Searching for city and selecting that city\n",
        "    place_search = driver.find_elements(By.XPATH,'//input[@type=\"text\"]')\n",
        "    place_search[2].click()\n",
        "    place_search[2].send_keys(city)\n",
        "\n",
        "    sleep(3)\n",
        "\n",
        "    select_place = driver.find_element(By.XPATH,'//div[@class=\"checkbox-label\"]')\n",
        "    select_place.click()\n",
        "\n",
        "    search[4].click()\n",
        "\n",
        "    sleep(3)\n",
        "\n",
        "    #searching for year and selecting that year\n",
        "    years = driver.find_elements(By.XPATH,'//input[@type=\"text\"]')\n",
        "    years[2].click()\n",
        "    years[2].send_keys(year)\n",
        "\n",
        "    sleep(3)\n",
        "\n",
        "    select_year = driver.find_element(By.XPATH,'//div[@class=\"checkbox-label\"]')\n",
        "    select_year.click()\n",
        "\n",
        "    sleep(3)\n",
        "\n",
        "    #clicking on download button\n",
        "    download = driver.find_element(By.XPATH,'//div[@class=\"download-button\"]')\n",
        "    download.click()\n",
        "\n",
        "    sleep(3)\n",
        "\n",
        "    #selecting the table\n",
        "    select_download = driver.find_elements(By.XPATH,'//div[@class=\"check\"]')\n",
        "    #print(len(select_download))\n",
        "    select_download[4].click()\n",
        "\n",
        "    sleep(3)\n",
        "\n",
        "    #then again click on the download button and a pop up appears\n",
        "    click_download = driver.find_element(By.XPATH,'//div[@class=\"aqua-layout results-list-download-button horizontal\"]')\n",
        "    click_download.click()\n",
        "\n",
        "    sleep(3)\n",
        "\n",
        "    #click on the download button\n",
        "    download_csv = driver.find_element(By.XPATH,'//*[@id=\"app\"]/div[3]/div[1]/div/div/div[2]/div[4]/div/button')\n",
        "    download_csv.click()\n",
        "\n",
        "    sleep(10)"
      ],
      "metadata": {
        "id": "zqxOBVKOM8t6"
      },
      "execution_count": null,
      "outputs": []
    },
    {
      "cell_type": "code",
      "source": [
        "employment_status_table(state=\"Texas\",city=\"Georgetown\",year=\"2019\")"
      ],
      "metadata": {
        "id": "nDVr8334NBUL"
      },
      "execution_count": null,
      "outputs": []
    }
  ]
}